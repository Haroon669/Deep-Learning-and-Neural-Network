{
 "cells": [
  {
   "cell_type": "code",
   "execution_count": 1,
   "metadata": {},
   "outputs": [
    {
     "name": "stderr",
     "output_type": "stream",
     "text": [
      "F:\\Anaconda\\lib\\site-packages\\h5py\\__init__.py:36: FutureWarning: Conversion of the second argument of issubdtype from `float` to `np.floating` is deprecated. In future, it will be treated as `np.float64 == np.dtype(float).type`.\n",
      "  from ._conv import register_converters as _register_converters\n",
      "Using TensorFlow backend.\n"
     ]
    }
   ],
   "source": [
    "from keras.models import Sequential\n",
    "from keras.layers import Dense \n",
    "from keras.optimizers import Adam, SGD\n",
    "\n",
    "%matplotlib inline\n",
    "import matplotlib.pyplot as plt\n",
    "import numpy as np\n",
    "import pandas as pd"
   ]
  },
  {
   "cell_type": "code",
   "execution_count": 2,
   "metadata": {},
   "outputs": [],
   "source": [
    "df=pd.read_csv('./data/weight-height.csv')"
   ]
  },
  {
   "cell_type": "code",
   "execution_count": 3,
   "metadata": {},
   "outputs": [],
   "source": [
    "X=df[['Height']].values\n",
    "y_true=df[['Weight']].values"
   ]
  },
  {
   "cell_type": "code",
   "execution_count": 4,
   "metadata": {},
   "outputs": [
    {
     "data": {
      "text/plain": [
       "array([[73.84701702],\n",
       "       [68.78190405],\n",
       "       [74.11010539],\n",
       "       ...,\n",
       "       [63.86799221],\n",
       "       [69.03424313],\n",
       "       [61.94424588]])"
      ]
     },
     "execution_count": 4,
     "metadata": {},
     "output_type": "execute_result"
    }
   ],
   "source": [
    "X"
   ]
  },
  {
   "cell_type": "code",
   "execution_count": 5,
   "metadata": {},
   "outputs": [],
   "source": [
    "model = Sequential()\n",
    "model.add(Dense(1, input_shape=(1,)))"
   ]
  },
  {
   "cell_type": "code",
   "execution_count": 6,
   "metadata": {},
   "outputs": [
    {
     "name": "stdout",
     "output_type": "stream",
     "text": [
      "_________________________________________________________________\n",
      "Layer (type)                 Output Shape              Param #   \n",
      "=================================================================\n",
      "dense_1 (Dense)              (None, 1)                 2         \n",
      "=================================================================\n",
      "Total params: 2\n",
      "Trainable params: 2\n",
      "Non-trainable params: 0\n",
      "_________________________________________________________________\n"
     ]
    }
   ],
   "source": [
    "model.summary()"
   ]
  },
  {
   "cell_type": "code",
   "execution_count": 16,
   "metadata": {},
   "outputs": [],
   "source": [
    "model.compile(Adam(lr=0.8), 'mean_squared_error')"
   ]
  },
  {
   "cell_type": "code",
   "execution_count": 23,
   "metadata": {},
   "outputs": [
    {
     "name": "stdout",
     "output_type": "stream",
     "text": [
      "Epoch 1/40\n",
      "10000/10000 [==============================] - 1s 60us/step - loss: 179.2846\n",
      "Epoch 2/40\n",
      "10000/10000 [==============================] - 1s 59us/step - loss: 181.8008\n",
      "Epoch 3/40\n",
      "10000/10000 [==============================] - 1s 62us/step - loss: 176.1126\n",
      "Epoch 4/40\n",
      "10000/10000 [==============================] - 1s 70us/step - loss: 176.9812\n",
      "Epoch 5/40\n",
      "10000/10000 [==============================] - 1s 61us/step - loss: 171.6266\n",
      "Epoch 6/40\n",
      "10000/10000 [==============================] - 1s 57us/step - loss: 176.4840\n",
      "Epoch 7/40\n",
      "10000/10000 [==============================] - 1s 62us/step - loss: 176.7808\n",
      "Epoch 8/40\n",
      "10000/10000 [==============================] - 1s 56us/step - loss: 165.6651\n",
      "Epoch 9/40\n",
      "10000/10000 [==============================] - 1s 65us/step - loss: 204.8038\n",
      "Epoch 10/40\n",
      "10000/10000 [==============================] - 1s 54us/step - loss: 181.6526\n",
      "Epoch 11/40\n",
      "10000/10000 [==============================] - 1s 65us/step - loss: 174.0502\n",
      "Epoch 12/40\n",
      "10000/10000 [==============================] - 1s 57us/step - loss: 178.7417\n",
      "Epoch 13/40\n",
      "10000/10000 [==============================] - 0s 48us/step - loss: 176.7944\n",
      "Epoch 14/40\n",
      "10000/10000 [==============================] - 1s 53us/step - loss: 175.4116\n",
      "Epoch 15/40\n",
      "10000/10000 [==============================] - 0s 41us/step - loss: 186.6486\n",
      "Epoch 16/40\n",
      "10000/10000 [==============================] - 0s 39us/step - loss: 169.9437\n",
      "Epoch 17/40\n",
      "10000/10000 [==============================] - 0s 36us/step - loss: 172.4046\n",
      "Epoch 18/40\n",
      "10000/10000 [==============================] - 0s 38us/step - loss: 185.0033\n",
      "Epoch 19/40\n",
      "10000/10000 [==============================] - 1s 62us/step - loss: 174.7611\n",
      "Epoch 20/40\n",
      "10000/10000 [==============================] - 1s 62us/step - loss: 179.4043\n",
      "Epoch 21/40\n",
      "10000/10000 [==============================] - 1s 60us/step - loss: 178.6009\n",
      "Epoch 22/40\n",
      "10000/10000 [==============================] - 1s 61us/step - loss: 175.3190\n",
      "Epoch 23/40\n",
      "10000/10000 [==============================] - 1s 62us/step - loss: 182.2792\n",
      "Epoch 24/40\n",
      "10000/10000 [==============================] - 1s 65us/step - loss: 188.6251\n",
      "Epoch 25/40\n",
      "10000/10000 [==============================] - 1s 64us/step - loss: 177.3304\n",
      "Epoch 26/40\n",
      "10000/10000 [==============================] - 1s 62us/step - loss: 176.9410\n",
      "Epoch 27/40\n",
      "10000/10000 [==============================] - 1s 62us/step - loss: 171.0571\n",
      "Epoch 28/40\n",
      "10000/10000 [==============================] - 1s 62us/step - loss: 174.2316\n",
      "Epoch 29/40\n",
      "10000/10000 [==============================] - 1s 61us/step - loss: 175.7070\n",
      "Epoch 30/40\n",
      "10000/10000 [==============================] - 1s 62us/step - loss: 180.7983\n",
      "Epoch 31/40\n",
      "10000/10000 [==============================] - 1s 62us/step - loss: 173.4884\n",
      "Epoch 32/40\n",
      "10000/10000 [==============================] - 1s 63us/step - loss: 188.9174\n",
      "Epoch 33/40\n",
      "10000/10000 [==============================] - 1s 62us/step - loss: 174.7520\n",
      "Epoch 34/40\n",
      "10000/10000 [==============================] - 1s 65us/step - loss: 175.0016\n",
      "Epoch 35/40\n",
      "10000/10000 [==============================] - 1s 69us/step - loss: 182.3222\n",
      "Epoch 36/40\n",
      "10000/10000 [==============================] - 1s 69us/step - loss: 187.9366\n",
      "Epoch 37/40\n",
      "10000/10000 [==============================] - 1s 62us/step - loss: 179.4244\n",
      "Epoch 38/40\n",
      "10000/10000 [==============================] - 1s 66us/step - loss: 182.7685\n",
      "Epoch 39/40\n",
      "10000/10000 [==============================] - 1s 62us/step - loss: 182.9455\n",
      "Epoch 40/40\n",
      "10000/10000 [==============================] - 1s 59us/step - loss: 170.2705\n"
     ]
    },
    {
     "data": {
      "text/plain": [
       "<keras.callbacks.History at 0x5a3ea74a20>"
      ]
     },
     "execution_count": 23,
     "metadata": {},
     "output_type": "execute_result"
    }
   ],
   "source": [
    "model.fit(X,y_true, epochs=40)"
   ]
  },
  {
   "cell_type": "code",
   "execution_count": 24,
   "metadata": {},
   "outputs": [],
   "source": [
    "y_pred=model.predict(X)"
   ]
  },
  {
   "cell_type": "code",
   "execution_count": 25,
   "metadata": {},
   "outputs": [
    {
     "data": {
      "text/plain": [
       "[<matplotlib.lines.Line2D at 0x5a3ea56a58>]"
      ]
     },
     "execution_count": 25,
     "metadata": {},
     "output_type": "execute_result"
    },
    {
     "data": {
      "image/png": "[encoded data removed]",
      "text/plain": [
       "<matplotlib.figure.Figure at 0x5a3ea68a20>"
      ]
     },
     "metadata": {},
     "output_type": "display_data"
    }
   ],
   "source": [
    "df.plot(kind='scatter',\n",
    "       x='Height',\n",
    "       y='Weight', title='Weight and Height in adults')\n",
    "plt.plot(X, y_pred, color='red', linewidth=3)"
   ]
  },
  {
   "cell_type": "code",
   "execution_count": 26,
   "metadata": {},
   "outputs": [],
   "source": [
    "w,b=model.get_weights()"
   ]
  },
  {
   "cell_type": "code",
   "execution_count": 21,
   "metadata": {},
   "outputs": [
    {
     "data": {
      "text/plain": [
       "array([[7.7874694]], dtype=float32)"
      ]
     },
     "execution_count": 21,
     "metadata": {},
     "output_type": "execute_result"
    }
   ],
   "source": [
    "w"
   ]
  },
  {
   "cell_type": "code",
   "execution_count": 27,
   "metadata": {},
   "outputs": [
    {
     "data": {
      "text/plain": [
       "array([-350.68887], dtype=float32)"
      ]
     },
     "execution_count": 27,
     "metadata": {},
     "output_type": "execute_result"
    }
   ],
   "source": [
    "b"
   ]
  }
 ],
 "metadata": {
  "kernelspec": {
   "display_name": "Python 3",
   "language": "python",
   "name": "python3"
  },
  "language_info": {
   "codemirror_mode": {
    "name": "ipython",
    "version": 3
   },
   "file_extension": ".py",
   "mimetype": "text/x-python",
   "name": "python",
   "nbconvert_exporter": "python",
   "pygments_lexer": "ipython3",
   "version": "3.6.4"
  }
 },
 "nbformat": 4,
 "nbformat_minor": 2
}
