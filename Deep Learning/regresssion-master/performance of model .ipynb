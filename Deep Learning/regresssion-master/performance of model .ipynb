{
 "cells": [
  {
   "cell_type": "markdown",
   "metadata": {},
   "source": [
    "# TRAIN TEST SPLIT"
   ]
  },
  {
   "cell_type": "code",
   "execution_count": 1,
   "metadata": {},
   "outputs": [
    {
     "name": "stderr",
     "output_type": "stream",
     "text": [
      "F:\\Anaconda\\lib\\site-packages\\h5py\\__init__.py:36: FutureWarning: Conversion of the second argument of issubdtype from `float` to `np.floating` is deprecated. In future, it will be treated as `np.float64 == np.dtype(float).type`.\n",
      "  from ._conv import register_converters as _register_converters\n",
      "Using TensorFlow backend.\n"
     ]
    }
   ],
   "source": [
    "from keras.models import Sequential\n",
    "from keras.layers import Dense \n",
    "from keras.optimizers import Adam, SGD\n",
    "\n",
    "%matplotlib inline\n",
    "import matplotlib.pyplot as plt\n",
    "import numpy as np\n",
    "import pandas as pd"
   ]
  },
  {
   "cell_type": "code",
   "execution_count": 2,
   "metadata": {},
   "outputs": [],
   "source": [
    "from sklearn.model_selection import train_test_split"
   ]
  },
  {
   "cell_type": "code",
   "execution_count": 3,
   "metadata": {},
   "outputs": [],
   "source": [
    "df=pd.read_csv('./data/weight-height.csv')"
   ]
  },
  {
   "cell_type": "code",
   "execution_count": 4,
   "metadata": {},
   "outputs": [],
   "source": [
    "X=df[['Height']].values\n",
    "y_true=df[['Weight']].values"
   ]
  },
  {
   "cell_type": "code",
   "execution_count": 6,
   "metadata": {},
   "outputs": [],
   "source": [
    "X_train, X_test, y_train, y_test = train_test_split(X,y_true, test_size=0.3)"
   ]
  },
  {
   "cell_type": "code",
   "execution_count": 7,
   "metadata": {},
   "outputs": [
    {
     "data": {
      "text/plain": [
       "7000"
      ]
     },
     "execution_count": 7,
     "metadata": {},
     "output_type": "execute_result"
    }
   ],
   "source": [
    "len(X_train)"
   ]
  },
  {
   "cell_type": "code",
   "execution_count": 8,
   "metadata": {},
   "outputs": [
    {
     "data": {
      "text/plain": [
       "3000"
      ]
     },
     "execution_count": 8,
     "metadata": {},
     "output_type": "execute_result"
    }
   ],
   "source": [
    "len(X_test)"
   ]
  },
  {
   "cell_type": "code",
   "execution_count": 10,
   "metadata": {},
   "outputs": [],
   "source": [
    "model = Sequential()\n",
    "model.add(Dense(1, input_shape=(1,)))"
   ]
  },
  {
   "cell_type": "code",
   "execution_count": 11,
   "metadata": {},
   "outputs": [],
   "source": [
    "model.compile(Adam(lr=0.8), 'mean_squared_error')"
   ]
  },
  {
   "cell_type": "code",
   "execution_count": 16,
   "metadata": {},
   "outputs": [
    {
     "name": "stdout",
     "output_type": "stream",
     "text": [
      "Epoch 1/30\n",
      "7000/7000 [==============================] - 0s 60us/step - loss: 318.7481\n",
      "Epoch 2/30\n",
      "7000/7000 [==============================] - 0s 59us/step - loss: 276.0308\n",
      "Epoch 3/30\n",
      "7000/7000 [==============================] - 0s 59us/step - loss: 264.8730\n",
      "Epoch 4/30\n",
      "7000/7000 [==============================] - 0s 61us/step - loss: 251.4925\n",
      "Epoch 5/30\n",
      "7000/7000 [==============================] - 0s 63us/step - loss: 244.8877\n",
      "Epoch 6/30\n",
      "7000/7000 [==============================] - 0s 60us/step - loss: 258.1268\n",
      "Epoch 7/30\n",
      "7000/7000 [==============================] - 0s 64us/step - loss: 227.3850\n",
      "Epoch 8/30\n",
      "7000/7000 [==============================] - 0s 62us/step - loss: 212.2211\n",
      "Epoch 9/30\n",
      "7000/7000 [==============================] - 1s 72us/step - loss: 205.0646\n",
      "Epoch 10/30\n",
      "7000/7000 [==============================] - 0s 59us/step - loss: 199.5503\n",
      "Epoch 11/30\n",
      "7000/7000 [==============================] - 0s 63us/step - loss: 195.7703\n",
      "Epoch 12/30\n",
      "7000/7000 [==============================] - 0s 48us/step - loss: 200.1167\n",
      "Epoch 13/30\n",
      "7000/7000 [==============================] - 0s 52us/step - loss: 187.8882\n",
      "Epoch 14/30\n",
      "7000/7000 [==============================] - 0s 51us/step - loss: 192.1450\n",
      "Epoch 15/30\n",
      "7000/7000 [==============================] - 0s 51us/step - loss: 190.2852\n",
      "Epoch 16/30\n",
      "7000/7000 [==============================] - 0s 49us/step - loss: 177.9518\n",
      "Epoch 17/30\n",
      "7000/7000 [==============================] - 0s 50us/step - loss: 194.5405\n",
      "Epoch 18/30\n",
      "7000/7000 [==============================] - 0s 51us/step - loss: 186.9986\n",
      "Epoch 19/30\n",
      "7000/7000 [==============================] - 0s 54us/step - loss: 167.5440\n",
      "Epoch 20/30\n",
      "7000/7000 [==============================] - 0s 54us/step - loss: 178.0659\n",
      "Epoch 21/30\n",
      "7000/7000 [==============================] - 0s 53us/step - loss: 184.8618\n",
      "Epoch 22/30\n",
      "7000/7000 [==============================] - 0s 61us/step - loss: 166.5278\n",
      "Epoch 23/30\n",
      "7000/7000 [==============================] - 0s 51us/step - loss: 182.0036\n",
      "Epoch 24/30\n",
      "7000/7000 [==============================] - 0s 50us/step - loss: 175.1527\n",
      "Epoch 25/30\n",
      "7000/7000 [==============================] - 0s 49us/step - loss: 185.1528\n",
      "Epoch 26/30\n",
      "7000/7000 [==============================] - 0s 50us/step - loss: 181.5768\n",
      "Epoch 27/30\n",
      "7000/7000 [==============================] - 0s 51us/step - loss: 166.7300\n",
      "Epoch 28/30\n",
      "7000/7000 [==============================] - 0s 50us/step - loss: 168.2779\n",
      "Epoch 29/30\n",
      "7000/7000 [==============================] - 0s 50us/step - loss: 186.6445\n",
      "Epoch 30/30\n",
      "7000/7000 [==============================] - 0s 50us/step - loss: 186.0910\n"
     ]
    },
    {
     "data": {
      "text/plain": [
       "<keras.callbacks.History at 0xf597fca7f0>"
      ]
     },
     "execution_count": 16,
     "metadata": {},
     "output_type": "execute_result"
    }
   ],
   "source": [
    "model.fit(X_train, y_train, epochs=30)"
   ]
  },
  {
   "cell_type": "code",
   "execution_count": 18,
   "metadata": {},
   "outputs": [
    {
     "name": "stdout",
     "output_type": "stream",
     "text": [
      "[135.79733 163.33878 179.78271 ... 141.27588 136.37744 178.13458]\n",
      "[147.97742 115.85837 176.8136  ... 179.7644  166.74002 161.05154]\n"
     ]
    }
   ],
   "source": [
    "y_train_pred= model.predict(X_train).ravel()\n",
    "y_test_pred=model.predict(X_test).ravel()\n",
    "print(y_train_pred)\n",
    "print(y_test_pred)"
   ]
  },
  {
   "cell_type": "code",
   "execution_count": 19,
   "metadata": {},
   "outputs": [
    {
     "data": {
      "text/plain": [
       "[<matplotlib.lines.Line2D at 0xf5969c6278>]"
      ]
     },
     "execution_count": 19,
     "metadata": {},
     "output_type": "execute_result"
    },
    {
     "data": {
      "image/png": "[encoded data removed]",
      "text/plain": [
       "<matplotlib.figure.Figure at 0xf5969c63c8>"
      ]
     },
     "metadata": {},
     "output_type": "display_data"
    }
   ],
   "source": [
    "df.plot(kind='scatter',\n",
    "       x='Height',\n",
    "       y='Weight', title='Weight and Height in adults')\n",
    "plt.plot(X_train, y_train_pred, color='red', linewidth=6)\n",
    "plt.plot(X_test, y_test_pred, color='yellow', linewidth=2)"
   ]
  },
  {
   "cell_type": "code",
   "execution_count": 20,
   "metadata": {},
   "outputs": [],
   "source": [
    "from sklearn.metrics import mean_squared_error as mse\n",
    "from sklearn.metrics import r2_score"
   ]
  },
  {
   "cell_type": "code",
   "execution_count": 22,
   "metadata": {},
   "outputs": [
    {
     "name": "stdout",
     "output_type": "stream",
     "text": [
      "213.00731487853625\n",
      "213.57412134449416\n"
     ]
    }
   ],
   "source": [
    "print(mse(y_train, y_train_pred))\n",
    "print(mse(y_test, y_test_pred))"
   ]
  },
  {
   "cell_type": "code",
   "execution_count": 23,
   "metadata": {},
   "outputs": [
    {
     "name": "stdout",
     "output_type": "stream",
     "text": [
      "0.7938515597474189\n",
      "0.7916654151729061\n"
     ]
    }
   ],
   "source": [
    "print(r2_score(y_train, y_train_pred))\n",
    "print(r2_score(y_test, y_test_pred))"
   ]
  }
 ],
 "metadata": {
  "kernelspec": {
   "display_name": "Python 3",
   "language": "python",
   "name": "python3"
  },
  "language_info": {
   "codemirror_mode": {
    "name": "ipython",
    "version": 3
   },
   "file_extension": ".py",
   "mimetype": "text/x-python",
   "name": "python",
   "nbconvert_exporter": "python",
   "pygments_lexer": "ipython3",
   "version": "3.6.4"
  }
 },
 "nbformat": 4,
 "nbformat_minor": 2
}
