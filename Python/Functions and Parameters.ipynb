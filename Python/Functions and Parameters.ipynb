{
 "cells": [
  {
   "cell_type": "code",
   "execution_count": 1,
   "metadata": {},
   "outputs": [
    {
     "name": "stdout",
     "output_type": "stream",
     "text": [
      "Hello, Test!\n",
      "Hello, Munir!\n",
      "Hello, Sheikh!\n"
     ]
    }
   ],
   "source": [
    "def greet_users(names):\n",
    "    for name in names:\n",
    "        msg = \"Hello, \" + name.title() +\"!\"\n",
    "        print(msg)\n",
    "        \n",
    "        \n",
    "usernames = ['test', 'munir','sheikh']\n",
    "greet_users(usernames)        "
   ]
  },
  {
   "cell_type": "code",
   "execution_count": 2,
   "metadata": {},
   "outputs": [
    {
     "data": {
      "text/plain": [
       "'Hello, Munir! Age: 18 Dob: 2018-01-02'"
      ]
     },
     "execution_count": 2,
     "metadata": {},
     "output_type": "execute_result"
    }
   ],
   "source": [
    "def greet_users(name, age, dob):\n",
    "    msg = \"Hello, \" + name.title() +\"! \"\n",
    "    msg += \"Age: \" + str(age) + \" \"\n",
    "    msg += \"Dob: \" + dob\n",
    "    return msg\n",
    "greet_users(age=18, dob=\"2018-01-02\", name=\"Munir\")"
   ]
  },
  {
   "cell_type": "code",
   "execution_count": 3,
   "metadata": {},
   "outputs": [],
   "source": [
    "def dob():\n",
    "    return\n",
    "dob()"
   ]
  },
  {
   "cell_type": "code",
   "execution_count": 4,
   "metadata": {},
   "outputs": [],
   "source": [
    "for i in range(10):\n",
    "    pass"
   ]
  },
  {
   "cell_type": "code",
   "execution_count": 6,
   "metadata": {},
   "outputs": [
    {
     "name": "stdout",
     "output_type": "stream",
     "text": [
      "Name:  Munir  Age: 28\n"
     ]
    }
   ],
   "source": [
    "def default_val(age = 18, name = \"Munir\"):\n",
    "    print(\"Name: \", name, \" Age:\", age)\n",
    "default_val(age = 28)"
   ]
  },
  {
   "cell_type": "code",
   "execution_count": 7,
   "metadata": {},
   "outputs": [
    {
     "data": {
      "text/plain": [
       "NoneType"
      ]
     },
     "execution_count": 7,
     "metadata": {},
     "output_type": "execute_result"
    }
   ],
   "source": [
    "a = None\n",
    "type(a)"
   ]
  },
  {
   "cell_type": "code",
   "execution_count": 8,
   "metadata": {},
   "outputs": [
    {
     "name": "stdout",
     "output_type": "stream",
     "text": [
      "I have car  Audi .\n"
     ]
    }
   ],
   "source": [
    "def dref(car, mobile = 'iphone'):\n",
    "    print('I have car ',car,'.')\n",
    "    if(mobile != None):\n",
    "        print('I have mobile ', mobile,'.')\n",
    "dref(\"Audi\", None)"
   ]
  },
  {
   "cell_type": "code",
   "execution_count": 9,
   "metadata": {},
   "outputs": [
    {
     "name": "stdout",
     "output_type": "stream",
     "text": [
      "Your name is muneer Sheikh Siddiq\n",
      "Your name is muneer  Siddiq\n",
      "Your name is muneer Sheikh \n",
      "Your name is muneer  \n"
     ]
    }
   ],
   "source": [
    "def getName(first_name, middle_name=\"\", last_name=\"\"):\n",
    "    print(\"Your name is\", first_name, middle_name, last_name)\n",
    "\n",
    "getName(\"muneer\",\"Sheikh\",\"Siddiq\")\n",
    "getName(\"muneer\", \"\", \"Siddiq\")\n",
    "getName(\"muneer\",\"Sheikh\")\n",
    "getName(\"muneer\")"
   ]
  },
  {
   "cell_type": "code",
   "execution_count": 11,
   "metadata": {},
   "outputs": [
    {
     "name": "stdout",
     "output_type": "stream",
     "text": [
      "Your name is muneer Sheikh Siddiq\n",
      "Your name is New Name\n",
      "Your name is Yes\n"
     ]
    }
   ],
   "source": [
    "def getNewName(*names):\n",
    "    print(\"Your name is\", \" \".join(names[0]))\n",
    "    \n",
    "names = [\"muneer Sheikh Siddiq\", \"New Name\", \"Yes\"]\n",
    "for name in names: \n",
    "    getNewName(name.split(\" \"))"
   ]
  },
  {
   "cell_type": "code",
   "execution_count": 12,
   "metadata": {},
   "outputs": [
    {
     "name": "stdout",
     "output_type": "stream",
     "text": [
      "Your Name is: muneer Sheikh Siddiq\n"
     ]
    }
   ],
   "source": [
    "def dictArg(**Names):\n",
    "    print(\"Your Name is:\",Names['first_name'], Names['last_name'], Names['middle_name'])\n",
    "    \n",
    "dictArg(first_name= 'muneer', last_name=\"Sheikh\", middle_name=\"Siddiq\")"
   ]
  }
 ],
 "metadata": {
  "kernelspec": {
   "display_name": "Python 3",
   "language": "python",
   "name": "python3"
  },
  "language_info": {
   "codemirror_mode": {
    "name": "ipython",
    "version": 3
   },
   "file_extension": ".py",
   "mimetype": "text/x-python",
   "name": "python",
   "nbconvert_exporter": "python",
   "pygments_lexer": "ipython3",
   "version": "3.6.4"
  }
 },
 "nbformat": 4,
 "nbformat_minor": 2
}
