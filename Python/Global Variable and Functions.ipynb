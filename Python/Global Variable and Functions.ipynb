{
 "cells": [
  {
   "cell_type": "code",
   "execution_count": 1,
   "metadata": {},
   "outputs": [
    {
     "data": {
      "text/plain": [
       "28"
      ]
     },
     "execution_count": 1,
     "metadata": {},
     "output_type": "execute_result"
    }
   ],
   "source": [
    "def add_numbers(first, second):\n",
    "    return first + second\n",
    "def sub_numbers(first, second):\n",
    "    return first - second\n",
    "add = add_numbers(10,20)\n",
    "sub = sub_numbers(2, 4)\n",
    "total = add + sub\n",
    "total"
   ]
  },
  {
   "cell_type": "code",
   "execution_count": 2,
   "metadata": {},
   "outputs": [
    {
     "data": {
      "text/plain": [
       "-1"
      ]
     },
     "execution_count": 2,
     "metadata": {},
     "output_type": "execute_result"
    }
   ],
   "source": [
    "total = add_numbers(4,5) + sub_numbers(10,20)\n",
    "total"
   ]
  },
  {
   "cell_type": "code",
   "execution_count": 4,
   "metadata": {},
   "outputs": [
    {
     "data": {
      "text/plain": [
       "32"
      ]
     },
     "execution_count": 4,
     "metadata": {},
     "output_type": "execute_result"
    }
   ],
   "source": [
    "total = add_numbers(add_numbers(5,29), sub_numbers(8,10))\n",
    "total"
   ]
  },
  {
   "cell_type": "code",
   "execution_count": 6,
   "metadata": {},
   "outputs": [
    {
     "name": "stdout",
     "output_type": "stream",
     "text": [
      "6\n"
     ]
    },
    {
     "data": {
      "text/plain": [
       "6"
      ]
     },
     "execution_count": 6,
     "metadata": {},
     "output_type": "execute_result"
    }
   ],
   "source": [
    "glVar = 10\n",
    "def print_something():\n",
    "    global glVar\n",
    "    glVar = 6\n",
    "    print(glVar)\n",
    "print_something()\n",
    "glVar"
   ]
  },
  {
   "cell_type": "code",
   "execution_count": 7,
   "metadata": {},
   "outputs": [
    {
     "name": "stdout",
     "output_type": "stream",
     "text": [
      "6\n"
     ]
    },
    {
     "data": {
      "text/plain": [
       "10"
      ]
     },
     "execution_count": 7,
     "metadata": {},
     "output_type": "execute_result"
    }
   ],
   "source": [
    "glVar = 10\n",
    "def print_something():   \n",
    "    glVar = 6\n",
    "    print(glVar)\n",
    "print_something()\n",
    "glVar"
   ]
  },
  {
   "cell_type": "code",
   "execution_count": 8,
   "metadata": {},
   "outputs": [
    {
     "name": "stdout",
     "output_type": "stream",
     "text": [
      "WallClockTime is :12pm\n",
      "WristWatchTime is :12pm\n",
      "WallClockTime is :1:30pm\n",
      "myWristWatchTime is :2pm\n",
      "1:30pm\n"
     ]
    }
   ],
   "source": [
    "wallClock = \"1:30pm\"\n",
    "def setWristWatch(newTime):\n",
    "    wristWatchTime = newTime\n",
    "    wallClock = newTime\n",
    "    print(\"WallClockTime is :\"+ wallClock)\n",
    "    print(\"WristWatchTime is :\"+ wristWatchTime)\n",
    "    \n",
    "def setMyWristWatch(newTime):\n",
    "    myWristWatchTime = newTime\n",
    "    print(\"WallClockTime is :\"+ wallClock)\n",
    "    print(\"myWristWatchTime is :\"+ myWristWatchTime)\n",
    "    \n",
    "setWristWatch(\"12pm\")\n",
    "setMyWristWatch(\"2pm\")\n",
    "print(wallClock)"
   ]
  },
  {
   "cell_type": "code",
   "execution_count": 9,
   "metadata": {},
   "outputs": [
    {
     "name": "stdout",
     "output_type": "stream",
     "text": [
      "WallClockTime is :12pm1:30pm\n",
      "WristWatchTime is :12pm\n",
      "WallClockTime is :12pm1:30pm\n",
      "myWristWatchTime is :2pm\n",
      "12pm1:30pm\n"
     ]
    }
   ],
   "source": [
    "wallClock = \"1:30pm\"\n",
    "def setWristWatch(newTime):\n",
    "    global wallClock\n",
    "    wristWatchTime = newTime\n",
    "    wallClock = newTime + wallClock\n",
    "    print(\"WallClockTime is :\"+ wallClock)\n",
    "    print(\"WristWatchTime is :\"+ wristWatchTime)\n",
    "    \n",
    "def setMyWristWatch(newTime):\n",
    "    myWristWatchTime = newTime\n",
    "    print(\"WallClockTime is :\"+ wallClock)\n",
    "    print(\"myWristWatchTime is :\"+ myWristWatchTime)\n",
    "    \n",
    "setWristWatch(\"12pm\")\n",
    "setMyWristWatch(\"2pm\")\n",
    "print(wallClock)"
   ]
  },
  {
   "cell_type": "code",
   "execution_count": 10,
   "metadata": {},
   "outputs": [
    {
     "name": "stdout",
     "output_type": "stream",
     "text": [
      "WallClockTime is :12pm\n",
      "WristWatchTime is :12pm\n",
      "WallClockTime is :1:00pm\n",
      "myWristWatchTime is :2pm\n",
      "5pm\n"
     ]
    }
   ],
   "source": [
    "wallClock = \"1:30pm\"\n",
    "def setWristWatch(newTime):\n",
    "    wristWatchTime = newTime\n",
    "    wallClock = newTime\n",
    "    print(\"WallClockTime is :\"+ wallClock)\n",
    "    print(\"WristWatchTime is :\"+ wristWatchTime)\n",
    "    \n",
    "def setMyWristWatch(newTime):\n",
    "    myWristWatchTime = newTime\n",
    "    print(\"WallClockTime is :\"+ wallClock)\n",
    "    print(\"myWristWatchTime is :\"+ myWristWatchTime)\n",
    "\n",
    "wallClock = \"1:00pm\"\n",
    "setWristWatch(\"12pm\")\n",
    "setMyWristWatch(\"2pm\")\n",
    "wallClock = \"5pm\"\n",
    "print(wallClock)"
   ]
  },
  {
   "cell_type": "code",
   "execution_count": 11,
   "metadata": {},
   "outputs": [
    {
     "name": "stdout",
     "output_type": "stream",
     "text": [
      "20\n"
     ]
    },
    {
     "data": {
      "text/plain": [
       "405.6666666666667"
      ]
     },
     "execution_count": 11,
     "metadata": {},
     "output_type": "execute_result"
    }
   ],
   "source": [
    "def calc(a):\n",
    "    print(a)\n",
    "    b = 12\n",
    "    c = 404\n",
    "    result = (a / b) + c\n",
    "    return result\n",
    "calc(20)"
   ]
  },
  {
   "cell_type": "code",
   "execution_count": 13,
   "metadata": {},
   "outputs": [
    {
     "data": {
      "text/plain": [
       "200"
      ]
     },
     "execution_count": 13,
     "metadata": {},
     "output_type": "execute_result"
    }
   ],
   "source": [
    "def x():\n",
    "    x = 10\n",
    "    def y(m):\n",
    "        return x * m\n",
    "    return y(20)\n",
    "x()"
   ]
  },
  {
   "cell_type": "code",
   "execution_count": 15,
   "metadata": {},
   "outputs": [
    {
     "name": "stdout",
     "output_type": "stream",
     "text": [
      "1\n",
      "2\n",
      "3\n",
      "4\n",
      "5\n"
     ]
    }
   ],
   "source": [
    "cnum = 1\n",
    "while cnum <= 5:\n",
    "    print(cnum)\n",
    "    cnum+=1"
   ]
  },
  {
   "cell_type": "code",
   "execution_count": 16,
   "metadata": {},
   "outputs": [
    {
     "name": "stdout",
     "output_type": "stream",
     "text": [
      " Tell me something i'll repeat to you:\n",
      " To exit from enter `quit` wordhahahha\n",
      "hahahha\n",
      " Tell me something i'll repeat to you:\n",
      " To exit from enter `quit` wordquit\n",
      "quit\n"
     ]
    }
   ],
   "source": [
    "prompt = \" Tell me something i'll repeat to you:\\n\"\n",
    "prompt += \" To exit from enter `quit` word\"\n",
    "message = \"\"\n",
    "while message != 'quit':\n",
    "    message = input(prompt).lower()\n",
    "    print(message)"
   ]
  },
  {
   "cell_type": "code",
   "execution_count": 19,
   "metadata": {},
   "outputs": [
    {
     "name": "stdout",
     "output_type": "stream",
     "text": [
      "Enter a name of the city, or press q to terminate the programkarachi\n",
      "It's one of the cleanest city karachi\n",
      "Enter a name of the city, or press q to terminate the programq\n",
      "It's not a cleanest city\n"
     ]
    }
   ],
   "source": [
    "CleanCity = ['karachi', 'santa Fe', 'Tucson', 'Great Falls']\n",
    "userInput = \"\"\n",
    "while userInput != 'q':\n",
    "    userInput = input(\"Enter a name of the city, or press q to terminate the program\")\n",
    "    if(userInput != 'q'):\n",
    "        for City in CleanCity:\n",
    "            if userInput == City:\n",
    "                print(\"It's one of the cleanest city\", userInput)\n",
    "                break\n",
    "    else:\n",
    "        print(\"It's not a cleanest city\")\n",
    "        break"
   ]
  },
  {
   "cell_type": "code",
   "execution_count": 20,
   "metadata": {},
   "outputs": [
    {
     "name": "stdout",
     "output_type": "stream",
     "text": [
      "Enter a name of the city, or press q to terminate the programkarachi\n",
      "It's one of the cleanest city karachi\n",
      "Enter a name of the city, or press q to terminate the programabc\n",
      "Enter a name of the city, or press q to terminate the programq\n",
      "It's not a cleanest city\n"
     ]
    }
   ],
   "source": [
    "CleanCity = ['karachi', 'santa Fe', 'Tucson', 'Great Falls']\n",
    "userInput = \"\"\n",
    "while True:\n",
    "    userInput = input(\"Enter a name of the city, or press q to terminate the program\")\n",
    "    if(userInput != 'q'):\n",
    "        for City in CleanCity:\n",
    "            if userInput == City:\n",
    "                print(\"It's one of the cleanest city\", userInput)\n",
    "                break\n",
    "    else:\n",
    "        print(\"It's not a cleanest city\")\n",
    "        break"
   ]
  },
  {
   "cell_type": "code",
   "execution_count": 21,
   "metadata": {},
   "outputs": [
    {
     "name": "stdout",
     "output_type": "stream",
     "text": [
      "2\n",
      "4\n",
      "6\n",
      "8\n",
      "10\n"
     ]
    }
   ],
   "source": [
    "cnum = 0\n",
    "while cnum < 10:\n",
    "    cnum +=1\n",
    "    if cnum %2 != 0:\n",
    "        continue\n",
    "    print(cnum)"
   ]
  },
  {
   "cell_type": "code",
   "execution_count": 22,
   "metadata": {},
   "outputs": [
    {
     "name": "stdout",
     "output_type": "stream",
     "text": [
      "Enter an user Age for ticket, or enter exit to terminate the program: 19\n",
      "Your ticket cost is 15\n",
      "Enter an user Age for ticket, or enter exit to terminate the program: exit\n",
      "Total Ticket cost is:  15\n"
     ]
    }
   ],
   "source": [
    "userInput = \"\"\n",
    "total = 0\n",
    "while True:\n",
    "    price = 0\n",
    "    userInput = (input(\"Enter an user Age for ticket, or enter exit to terminate the program: \"))\n",
    "    if(userInput != 'exit'):\n",
    "        age = int(userInput);\n",
    "        if(age < 3):\n",
    "            price = 0\n",
    "            print(\"Your ticket is free\")\n",
    "        elif(age >= 3 and age <= 12):\n",
    "            price = 10\n",
    "            print(\"Your ticket cost is\", price)\n",
    "        elif(age > 12):\n",
    "            price = 15\n",
    "            print(\"Your ticket cost is\", price)\n",
    "        total += price\n",
    "    else: \n",
    "        print(\"Total Ticket cost is: \", total)\n",
    "        break;"
   ]
  },
  {
   "cell_type": "code",
   "execution_count": 17,
   "metadata": {},
   "outputs": [
    {
     "name": "stdout",
     "output_type": "stream",
     "text": [
      "True\n",
      "False\n"
     ]
    }
   ],
   "source": [
    "for u in [True, False, True]:\n",
    "    print(u)\n",
    "    if not u:\n",
    "        break"
   ]
  }
 ],
 "metadata": {
  "kernelspec": {
   "display_name": "Python 3",
   "language": "python",
   "name": "python3"
  },
  "language_info": {
   "codemirror_mode": {
    "name": "ipython",
    "version": 3
   },
   "file_extension": ".py",
   "mimetype": "text/x-python",
   "name": "python",
   "nbconvert_exporter": "python",
   "pygments_lexer": "ipython3",
   "version": "3.6.4"
  }
 },
 "nbformat": 4,
 "nbformat_minor": 2
}
