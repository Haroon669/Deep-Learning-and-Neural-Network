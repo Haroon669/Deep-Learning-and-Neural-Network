{
 "cells": [
  {
   "cell_type": "markdown",
   "metadata": {},
   "source": []
  },
  {
   "cell_type": "code",
   "execution_count": 1,
   "metadata": {},
   "outputs": [
    {
     "data": {
      "text/plain": [
       "{'n1': [1, 2, 3], 'n2': [1, 2, 5], 'n3': [2, 3, 4]}"
      ]
     },
     "execution_count": 1,
     "metadata": {},
     "output_type": "execute_result"
    }
   ],
   "source": [
    "some_numbers = {'n1': [2,3,1], 'n2': [5,1,2], 'n3': [3,2,4]}\n",
    "sorted_number = {}\n",
    "for k,v in some_numbers.items():\n",
    "    sorted_number[k] = sorted(v)\n",
    "sorted_number"
   ]
  },
  {
   "cell_type": "code",
   "execution_count": 3,
   "metadata": {},
   "outputs": [
    {
     "data": {
      "text/plain": [
       "{'n1': [1, 2, 3], 'n2': [1, 2, 5], 'n3': [2, 3, 4]}"
      ]
     },
     "execution_count": 3,
     "metadata": {},
     "output_type": "execute_result"
    }
   ],
   "source": [
    "{k:sorted(v) for k, v in some_numbers.items()}"
   ]
  },
  {
   "cell_type": "code",
   "execution_count": 4,
   "metadata": {},
   "outputs": [
    {
     "name": "stdout",
     "output_type": "stream",
     "text": [
      "Enter a word: gold\n",
      "Your inventory is ['flint', 'twine', 'gestone', 'hagger', 'turbole']\n",
      "Enter a name: hagger\n",
      "['flint', 'twine', 'gestone', 'turbole']\n"
     ]
    }
   ],
   "source": [
    "inventory = {\n",
    "    'gold': ['flint', 'twine','gestone', 'hagger', 'turbole'],\n",
    "    'pouch':['flint', 'twine','gestone', 'hagger', 'turbole'],\n",
    "    'backpack': ['xylophone', 'dagger', 'bedroll', 'bread loaf']\n",
    "}\n",
    "\n",
    "x = input(\"Enter a word: \")\n",
    "try:\n",
    "    if inventory[x]:\n",
    "        print(\"Your inventory is\",inventory[x])\n",
    "        y = input(\"Enter a name: \")\n",
    "        print([ i for i in inventory[x] if(i != y)])\n",
    "except KeyError:\n",
    "    print(\"Word is not present in inventory\")"
   ]
  },
  {
   "cell_type": "code",
   "execution_count": 5,
   "metadata": {},
   "outputs": [
    {
     "name": "stdout",
     "output_type": "stream",
     "text": [
      "Enter a word: pouch\n",
      "Your inventory is ['flint', 'twine', 'gestone', 'hagger', 'turbole']\n",
      "Enter a name: twine\n",
      "['flint', 'gestone', 'hagger', 'turbole']\n"
     ]
    }
   ],
   "source": [
    "inventory = {\n",
    "    'gold': ['flint', 'twine','gestone', 'hagger', 'turbole'],\n",
    "    'pouch':['flint', 'twine','gestone', 'hagger', 'turbole'],\n",
    "    'backpack': ['xylophone', 'dagger', 'bedroll', 'bread loaf']\n",
    "}\n",
    "\n",
    "x = input(\"Enter a word: \")\n",
    "if inventory.get(x):\n",
    "    print(\"Your inventory is\",inventory[x])\n",
    "    y = input(\"Enter a name: \")\n",
    "    print([ i for i in inventory[x] if(i != y)])\n",
    "else:\n",
    "    print(\"Word is not present in inventory\")"
   ]
  },
  {
   "cell_type": "code",
   "execution_count": 6,
   "metadata": {},
   "outputs": [
    {
     "name": "stdout",
     "output_type": "stream",
     "text": [
      "['shahzad', 'AI', 'B']\n"
     ]
    }
   ],
   "source": [
    "person = {'name': 'shahzad', 'program': 'AI', 'section': 'B'}\n",
    "print([person[k] for k in person.keys()])"
   ]
  },
  {
   "cell_type": "code",
   "execution_count": 7,
   "metadata": {},
   "outputs": [
    {
     "name": "stdout",
     "output_type": "stream",
     "text": [
      "Enter a name: osama\n",
      "C \n",
      "\n",
      "C# \n",
      "\n",
      "Python \n",
      "\n"
     ]
    }
   ],
   "source": [
    "user_languages = {\n",
    "    'osama': ['C', 'C#', 'Python'],\n",
    "    'amir_saleem': ['html','css','excel'],\n",
    "    'shazad': ['Ruby', 'Swift']\n",
    "}\n",
    "\n",
    "x = input(\"Enter a name: \")\n",
    "for y in user_languages[x]:\n",
    "    print(y,\"\\n\")"
   ]
  },
  {
   "cell_type": "code",
   "execution_count": 8,
   "metadata": {},
   "outputs": [
    {
     "name": "stdout",
     "output_type": "stream",
     "text": [
      "0 - 1\n",
      "1 - 23\n",
      "2 - 4\n",
      "3 - 5\n",
      "4 - 6\n"
     ]
    }
   ],
   "source": [
    "li = [1,23,4,5,6]\n",
    "for index, v in enumerate(li):\n",
    "    print(index,\"-\",v)"
   ]
  },
  {
   "cell_type": "code",
   "execution_count": 9,
   "metadata": {},
   "outputs": [
    {
     "data": {
      "text/plain": [
       "'shahzad'"
      ]
     },
     "execution_count": 9,
     "metadata": {},
     "output_type": "execute_result"
    }
   ],
   "source": [
    "person.get('name','subject')"
   ]
  },
  {
   "cell_type": "code",
   "execution_count": 10,
   "metadata": {},
   "outputs": [
    {
     "name": "stdout",
     "output_type": "stream",
     "text": [
      "{'person': 2}\n"
     ]
    }
   ],
   "source": [
    "dic = {'person':1,'person':2 }\n",
    "print(dic)"
   ]
  },
  {
   "cell_type": "code",
   "execution_count": 11,
   "metadata": {},
   "outputs": [
    {
     "data": {
      "text/plain": [
       "{'person': 3}"
      ]
     },
     "execution_count": 11,
     "metadata": {},
     "output_type": "execute_result"
    }
   ],
   "source": [
    "dic.update({'person':3})\n",
    "dic"
   ]
  },
  {
   "cell_type": "markdown",
   "metadata": {},
   "source": [
    "# Take a input from user if it is exist then update else append in dictionary"
   ]
  },
  {
   "cell_type": "code",
   "execution_count": 15,
   "metadata": {},
   "outputs": [
    {
     "name": "stdout",
     "output_type": "stream",
     "text": [
      "Enter a name,password: hamza,hamiz\n",
      "you have successfully update your password\n"
     ]
    },
    {
     "data": {
      "text/plain": [
       "[{'name': 'hamza', 'password': 'hamiz'},\n",
       " {'name': 'ayaz', 'password': 'hamze'},\n",
       " {'name': 'nasir', 'password': 'hamze'},\n",
       " {'name': 'moiz', 'password': 'hamze'}]"
      ]
     },
     "execution_count": 15,
     "metadata": {},
     "output_type": "execute_result"
    }
   ],
   "source": [
    "usernames = [\n",
    "    {\"name\": \"hamza\", \"password\": \"hamze\"},\n",
    "    {\"name\": \"ayaz\", \"password\": \"hamze\"},\n",
    "    {\"name\": \"nasir\", \"password\": \"hamze\"},\n",
    "    {\"name\": \"moiz\", \"password\": \"hamze\"}\n",
    "]\n",
    "x = input(\"Enter a name,password: \")\n",
    "u = x.split(',')\n",
    "bFound = False\n",
    "for x in usernames:\n",
    "    if x.get('name') == u[0]:\n",
    "        x.update({'password':u[1]})\n",
    "        print(\"you have successfully update your password\")\n",
    "        bFound = True\n",
    "        \n",
    "if not bFound:\n",
    "    usernames.append({'name':u[0],'password':u[1]})\n",
    "    print('You have successfully register')\n",
    "    \n",
    "usernames"
   ]
  },
  {
   "cell_type": "markdown",
   "metadata": {},
   "source": [
    "# Zip"
   ]
  },
  {
   "cell_type": "code",
   "execution_count": 12,
   "metadata": {},
   "outputs": [
    {
     "data": {
      "text/plain": [
       "{1: 11, 2: 12, 3: 13, 4: 14, 5: 15, 6: 16, 7: 17, 8: 18, 9: 19, 10: 20}"
      ]
     },
     "execution_count": 12,
     "metadata": {},
     "output_type": "execute_result"
    }
   ],
   "source": [
    "li = [1,2,3,4,5,6,7,8,9,10,11]\n",
    "li2 = [11,12,13,14,15,16,17,18,19,20]\n",
    "dic = dict(zip(li,li2))\n",
    "dic"
   ]
  },
  {
   "cell_type": "code",
   "execution_count": 13,
   "metadata": {},
   "outputs": [
    {
     "data": {
      "text/plain": [
       "((1, 11, 21),\n",
       " (2, 12, 22),\n",
       " (3, 13, 23),\n",
       " (4, 14, 24),\n",
       " (5, 15, 25),\n",
       " (6, 16, 26),\n",
       " (7, 17, 27),\n",
       " (8, 18, 28),\n",
       " (9, 19, 29),\n",
       " (10, 20, 30))"
      ]
     },
     "execution_count": 13,
     "metadata": {},
     "output_type": "execute_result"
    }
   ],
   "source": [
    "li = [1,2,3,4,5,6,7,8,9,10,11]\n",
    "li2 = [11,12,13,14,15,16,17,18,19,20]\n",
    "li3 = [21,22,23,24,25,26,27,28,29,30]\n",
    "dic = tuple(zip(li,li2,li3))\n",
    "dic"
   ]
  },
  {
   "cell_type": "code",
   "execution_count": 14,
   "metadata": {},
   "outputs": [
    {
     "data": {
      "text/plain": [
       "[(1, 11, 21),\n",
       " (2, 12, 22),\n",
       " (3, 13, 23),\n",
       " (4, 14, 24),\n",
       " (5, 15, 25),\n",
       " (6, 16, 26),\n",
       " (7, 17, 27),\n",
       " (8, 18, 28),\n",
       " (9, 19, 29),\n",
       " (10, 20, 30)]"
      ]
     },
     "execution_count": 14,
     "metadata": {},
     "output_type": "execute_result"
    }
   ],
   "source": [
    "li = [1,2,3,4,5,6,7,8,9,10,11]\n",
    "li2 = [11,12,13,14,15,16,17,18,19,20]\n",
    "li3 = [21,22,23,24,25,26,27,28,29,30]\n",
    "dic = list(zip(li,li2,li3))\n",
    "dic"
   ]
  },
  {
   "cell_type": "code",
   "execution_count": null,
   "metadata": {},
   "outputs": [],
   "source": []
  }
 ],
 "metadata": {
  "kernelspec": {
   "display_name": "Python 3",
   "language": "python",
   "name": "python3"
  },
  "language_info": {
   "codemirror_mode": {
    "name": "ipython",
    "version": 3
   },
   "file_extension": ".py",
   "mimetype": "text/x-python",
   "name": "python",
   "nbconvert_exporter": "python",
   "pygments_lexer": "ipython3",
   "version": "3.6.4"
  }
 },
 "nbformat": 4,
 "nbformat_minor": 2
}
